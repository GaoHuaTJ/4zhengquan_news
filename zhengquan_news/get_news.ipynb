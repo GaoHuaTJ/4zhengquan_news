{
 "cells": [
  {
   "cell_type": "code",
   "execution_count": 1,
   "metadata": {
    "collapsed": true,
    "pycharm": {
     "is_executing": false
    }
   },
   "outputs": [],
   "source": [
    "import requests\n",
    "#发请求\n",
    "day_sum_url=\"http://finance.sina.com.cn/focus/zqbjh/\"\n",
    "headers={\n",
    "    'User-Agent': 'Mozilla/5.0 (Windows NT 10.0; Win64; x64) AppleWebKit/537.36 (KHTML, like Gecko) Chrome/74.0.3729.131 Safari/537.36'\n",
    "    }\n",
    "response=requests.get(url=day_sum_url,headers=headers)"
   ]
  },
  {
   "cell_type": "code",
   "execution_count": 3,
   "outputs": [],
   "source": [
    "#将返回的结果进行储存\n",
    "html_text=response.content.decode(\"utf-8\")"
   ],
   "metadata": {
    "collapsed": false,
    "pycharm": {
     "name": "#%%\n",
     "is_executing": false
    }
   }
  },
  {
   "cell_type": "code",
   "execution_count": 5,
   "outputs": [],
   "source": [
    "#将文本转换成标准的html\n",
    "from lxml import  etree\n",
    "html=etree.HTML(html_text)"
   ],
   "metadata": {
    "collapsed": false,
    "pycharm": {
     "name": "#%%\n",
     "is_executing": false
    }
   }
  },
  {
   "cell_type": "code",
   "execution_count": 6,
   "outputs": [],
   "source": [
    "#解析网址\n",
    "urls=html.xpath(\"//div/ul[@class=\\\"list_009\\\"]/li/a/@href\")\n",
    "#解析标题\n",
    "titles=html.xpath(\"//div/ul[@class=\\\"list_009\\\"]/li/a/text()\")\n",
    "#解析发布日期\n",
    "dates=html.xpath(\"//div/ul[@class=\\\"list_009\\\"]/li/span/text()\")\n"
   ],
   "metadata": {
    "collapsed": false,
    "pycharm": {
     "name": "#%%\n",
     "is_executing": false
    }
   }
  },
  {
   "cell_type": "code",
   "execution_count": 7,
   "outputs": [],
   "source": [
    "#对网址循环发请求，返回网址内容\n",
    "content=requests.get(urls[0],headers=headers).content.decode(\"utf-8\")"
   ],
   "metadata": {
    "collapsed": false,
    "pycharm": {
     "name": "#%%\n",
     "is_executing": false
    }
   }
  },
  {
   "cell_type": "code",
   "execution_count": 8,
   "outputs": [],
   "source": [
    "#将内容转换成标准的html\n",
    "content_html=etree.HTML(content)"
   ],
   "metadata": {
    "collapsed": false,
    "pycharm": {
     "name": "#%%\n",
     "is_executing": false
    }
   }
  },
  {
   "cell_type": "code",
   "execution_count": 71,
   "outputs": [
    {
     "data": {
      "text/plain": "4"
     },
     "metadata": {},
     "output_type": "execute_result",
     "execution_count": 71
    }
   ],
   "source": [
    "#解析内容页的html\n",
    "##解析报社列表\n",
    "papers=content_html.xpath(\"//*[@id=\\\"artibody\\\"]/p/strong/text()\")\n",
    "##解析报社内容列表\n",
    "news=content_html.xpath(\"//*[@id=\\\"artibody\\\"]/p/text()\")\n",
    "papers"
   ],
   "metadata": {
    "collapsed": false,
    "pycharm": {
     "name": "#%%\n",
     "is_executing": false
    }
   }
  },
  {
   "cell_type": "code",
   "execution_count": 75,
   "outputs": [
    {
     "data": {
      "text/plain": "16"
     },
     "metadata": {},
     "output_type": "execute_result",
     "execution_count": 75
    }
   ],
   "source": [
    "#数据格式化\n",
    "##删除每一个字符元素中的前后空格\n",
    "def delete_space(item):\n",
    "    if len(item)>2 and item.find(\"\\u3000\\u3000\")==0:\n",
    "        item=item.replace(\"\\u3000\\u3000\",\"\")\n",
    "    return item\n",
    "\n",
    "news=list(map(delete_space,news))\n",
    "\n",
    "##删除新闻中的无用字符\n",
    "for i in news:\n",
    "    if (i.find(\"责任编辑\")==0) or i in ['\\xa0\\xa0','\\u3000\\u3000']:\n",
    "        news.remove(i)\n",
    "    if i==\"\\u3000\\u3000\":#这里要删两边，不知道为什么一遍删不全\n",
    "        news.remove(i)\n",
    "\n",
    "##确定报纸的顺序\n",
    "real_paper= [\"中国证券报\",\"证券时报\",\"上海证券报\",\"证券日报\"]\n",
    "final_paper=[paper for paper in papers if paper in real_paper]\n",
    "#新闻标题\n",
    "news_titles=[paper.replace('\\u3000','') for paper in papers if paper not in real_paper]\n",
    "\n",
    "\n"
   ],
   "metadata": {
    "collapsed": false,
    "pycharm": {
     "name": "#%%\n",
     "is_executing": false
    }
   }
  }
 ],
 "metadata": {
  "kernelspec": {
   "display_name": "Python 3",
   "language": "python",
   "name": "python3"
  },
  "language_info": {
   "codemirror_mode": {
    "name": "ipython",
    "version": 2
   },
   "file_extension": ".py",
   "mimetype": "text/x-python",
   "name": "python",
   "nbconvert_exporter": "python",
   "pygments_lexer": "ipython2",
   "version": "2.7.6"
  },
  "pycharm": {
   "stem_cell": {
    "cell_type": "raw",
    "source": [],
    "metadata": {
     "collapsed": false
    }
   }
  }
 },
 "nbformat": 4,
 "nbformat_minor": 0
}
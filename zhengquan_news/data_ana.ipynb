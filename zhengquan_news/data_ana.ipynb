{
 "cells": [
  {
   "cell_type": "code",
   "execution_count": 8,
   "metadata": {
    "collapsed": true,
    "pycharm": {
     "is_executing": false
    }
   },
   "outputs": [],
   "source": [
    "import pandas as pd\n",
    "df=pd.read_excel(\"四大证券报.xlsx\")\n",
    "df['报刊']=df['报刊'].astype('category')\n",
    "list_custom=['中国证券报','上海证券报','证券时报','证券日报']\n",
    "df['报刊'].cat.reorder_categories(list_custom, inplace=True)\n",
    "# df.sort_values('报刊', inplace=True)\n",
    "df=df.sort_values(by=['时间','报刊'])  # 按照时间先后排序"
   ]
  },
  {
   "cell_type": "code",
   "execution_count": 9,
   "outputs": [
    {
     "data": {
      "text/plain": "            时间     报刊                                     标题  \\\n1   2019-11-01  中国证券报  科创板首家IPO注册失败企业收罚单 证监会对恒安嘉新及保荐机构等出具警示函   \n2   2019-11-01  中国证券报      证监会上市部副主任曹勇表示：提高上市公司质量是资本市场改革重点工程   \n3   2019-11-01  中国证券报                    深化融资交易机制改革 提升新三板流动性   \n4   2019-11-01  中国证券报                      三季报显示沪深上市公司业绩稳中有进   \n5   2019-11-01  上海证券报              10月制造业PMI回落 高端制造业保持加速扩张态势   \n..         ...    ...                                    ...   \n754 2020-01-10  上海证券报                    我国将允许社会资本进入油气勘探开发领域   \n749 2020-01-10   证券日报                  27家券商传喜报：2019年净利营收双增长   \n751 2020-01-10   证券日报   去年12月份CPI同比上涨4.5% 猪肉价格同比涨幅回落13.2个百分点   \n752 2020-01-10   证券日报      银保监会整顿“网红百万医疗险” 明确禁止“随意停售”与“保证续保”   \n753 2020-01-10   证券日报                 深交所：去年深市ETF资产总规模1157亿元   \n\n                                                  新闻内容  \n1    证监会10月31日消息，证监会日前出具三项警示函监管措施决定，包括《关于对恒安嘉新（北京）科...  \n2    10月31日，证监会上市部副主任曹勇在中国证券报主办的“2019提高上市公司质量高峰论坛”上...  \n3    新三板相关改革举措将陆续出台，备受关注的是，此次改革将形成发行、交易、投资者适当性、信息披露...  \n4    据上交所10月31日披露，2019年前三季度，沪市公司合计实现营业收入26.60万亿元，净利...  \n5    受季节性因素影响，10月制造业PMI和非制造业PMI均有所回落，表明经济下行压力加大。不过，...  \n..                                                 ...  \n754  我国将全面开放油气勘查开采市场，允许民企、外资企业等社会各界资本进入油气勘探开发领域。自然资...  \n749  截至昨日记者发稿，已有27家券商（26家上市券商+安信证券）率先发布财务报表。总体来看，上述...  \n751  1月9日，国家统计局发布了2019年12月份全国CPI和PPI数据。具体数据来看，CPI环比...  \n752  记者近期获悉，银保监会于1月6日向各人身保险公司、各财产保险公司、中国保险行业协会下发了《关...  \n753  1月8日，深交所组织召开2020年ETF市场发展座谈会，围绕贯彻落实中央经济工作会议精神和证...  \n\n[756 rows x 4 columns]",
      "text/html": "<div>\n<style scoped>\n    .dataframe tbody tr th:only-of-type {\n        vertical-align: middle;\n    }\n\n    .dataframe tbody tr th {\n        vertical-align: top;\n    }\n\n    .dataframe thead th {\n        text-align: right;\n    }\n</style>\n<table border=\"1\" class=\"dataframe\">\n  <thead>\n    <tr style=\"text-align: right;\">\n      <th></th>\n      <th>时间</th>\n      <th>报刊</th>\n      <th>标题</th>\n      <th>新闻内容</th>\n    </tr>\n  </thead>\n  <tbody>\n    <tr>\n      <th>1</th>\n      <td>2019-11-01</td>\n      <td>中国证券报</td>\n      <td>科创板首家IPO注册失败企业收罚单 证监会对恒安嘉新及保荐机构等出具警示函</td>\n      <td>证监会10月31日消息，证监会日前出具三项警示函监管措施决定，包括《关于对恒安嘉新（北京）科...</td>\n    </tr>\n    <tr>\n      <th>2</th>\n      <td>2019-11-01</td>\n      <td>中国证券报</td>\n      <td>证监会上市部副主任曹勇表示：提高上市公司质量是资本市场改革重点工程</td>\n      <td>10月31日，证监会上市部副主任曹勇在中国证券报主办的“2019提高上市公司质量高峰论坛”上...</td>\n    </tr>\n    <tr>\n      <th>3</th>\n      <td>2019-11-01</td>\n      <td>中国证券报</td>\n      <td>深化融资交易机制改革 提升新三板流动性</td>\n      <td>新三板相关改革举措将陆续出台，备受关注的是，此次改革将形成发行、交易、投资者适当性、信息披露...</td>\n    </tr>\n    <tr>\n      <th>4</th>\n      <td>2019-11-01</td>\n      <td>中国证券报</td>\n      <td>三季报显示沪深上市公司业绩稳中有进</td>\n      <td>据上交所10月31日披露，2019年前三季度，沪市公司合计实现营业收入26.60万亿元，净利...</td>\n    </tr>\n    <tr>\n      <th>5</th>\n      <td>2019-11-01</td>\n      <td>上海证券报</td>\n      <td>10月制造业PMI回落 高端制造业保持加速扩张态势</td>\n      <td>受季节性因素影响，10月制造业PMI和非制造业PMI均有所回落，表明经济下行压力加大。不过，...</td>\n    </tr>\n    <tr>\n      <th>...</th>\n      <td>...</td>\n      <td>...</td>\n      <td>...</td>\n      <td>...</td>\n    </tr>\n    <tr>\n      <th>754</th>\n      <td>2020-01-10</td>\n      <td>上海证券报</td>\n      <td>我国将允许社会资本进入油气勘探开发领域</td>\n      <td>我国将全面开放油气勘查开采市场，允许民企、外资企业等社会各界资本进入油气勘探开发领域。自然资...</td>\n    </tr>\n    <tr>\n      <th>749</th>\n      <td>2020-01-10</td>\n      <td>证券日报</td>\n      <td>27家券商传喜报：2019年净利营收双增长</td>\n      <td>截至昨日记者发稿，已有27家券商（26家上市券商+安信证券）率先发布财务报表。总体来看，上述...</td>\n    </tr>\n    <tr>\n      <th>751</th>\n      <td>2020-01-10</td>\n      <td>证券日报</td>\n      <td>去年12月份CPI同比上涨4.5% 猪肉价格同比涨幅回落13.2个百分点</td>\n      <td>1月9日，国家统计局发布了2019年12月份全国CPI和PPI数据。具体数据来看，CPI环比...</td>\n    </tr>\n    <tr>\n      <th>752</th>\n      <td>2020-01-10</td>\n      <td>证券日报</td>\n      <td>银保监会整顿“网红百万医疗险” 明确禁止“随意停售”与“保证续保”</td>\n      <td>记者近期获悉，银保监会于1月6日向各人身保险公司、各财产保险公司、中国保险行业协会下发了《关...</td>\n    </tr>\n    <tr>\n      <th>753</th>\n      <td>2020-01-10</td>\n      <td>证券日报</td>\n      <td>深交所：去年深市ETF资产总规模1157亿元</td>\n      <td>1月8日，深交所组织召开2020年ETF市场发展座谈会，围绕贯彻落实中央经济工作会议精神和证...</td>\n    </tr>\n  </tbody>\n</table>\n<p>756 rows × 4 columns</p>\n</div>"
     },
     "metadata": {},
     "output_type": "execute_result",
     "execution_count": 9
    }
   ],
   "source": [
    "df"
   ],
   "metadata": {
    "collapsed": false,
    "pycharm": {
     "name": "#%%\n",
     "is_executing": false
    }
   }
  }
 ],
 "metadata": {
  "kernelspec": {
   "display_name": "Python 3",
   "language": "python",
   "name": "python3"
  },
  "language_info": {
   "codemirror_mode": {
    "name": "ipython",
    "version": 2
   },
   "file_extension": ".py",
   "mimetype": "text/x-python",
   "name": "python",
   "nbconvert_exporter": "python",
   "pygments_lexer": "ipython2",
   "version": "2.7.6"
  },
  "pycharm": {
   "stem_cell": {
    "cell_type": "raw",
    "source": [],
    "metadata": {
     "collapsed": false
    }
   }
  }
 },
 "nbformat": 4,
 "nbformat_minor": 0
}